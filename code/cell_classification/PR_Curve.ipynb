{
 "cells": [
  {
   "cell_type": "code",
   "execution_count": 103,
   "metadata": {},
   "outputs": [],
   "source": [
    "################ 导入相关包 #####################\n",
    "import os\n",
    "import sys\n",
    "import random\n",
    "import numpy as np\n",
    "import tensorflow as tf\n",
    "import matplotlib.pyplot as plt\n",
    "from statistics import mean\n",
    "from nltk.metrics import scores\n",
    "from hpv import train, detect, NucleusDataset, NucleusConfig, NucleusInferenceConfig"
   ]
  },
  {
   "cell_type": "code",
   "execution_count": 84,
   "metadata": {},
   "outputs": [
    {
     "name": "stdout",
     "output_type": "stream",
     "text": [
      "/home/hqyone/mnt/2tb/github/cancer_rcnn\n"
     ]
    }
   ],
   "source": [
    "ROOT_DIR = os.path.abspath(\"../../\")\n",
    "print(ROOT_DIR)\n",
    "sys.path.append(ROOT_DIR)  # To find local version of the library\n",
    "from mrcnn import utils\n",
    "from mrcnn import visualize\n",
    "import mrcnn.model as modellib\n",
    "import hpv\n",
    "import pickle"
   ]
  },
  {
   "cell_type": "code",
   "execution_count": 97,
   "metadata": {},
   "outputs": [],
   "source": [
    "##############  Parameter Settings  ####\n",
    "LOGS_DIR = os.path.join(ROOT_DIR, \"logs\")\n",
    "DATASET_DIR = os.path.join(ROOT_DIR, \"data/stage1_test\")   #  数据集\n",
    "config = hpv.NucleusInferenceConfig()\n",
    "DEVICE = \"/cpu:0\"\n",
    "TEST_MODE = \"inference\"\n",
    "def get_ax(rows=1, cols=1, size=16):\n",
    "    fig, ax = plt.subplots(rows, cols, figsize=(size * cols, size * rows))\n",
    "    fig.tight_layout()\n",
    "    return ax\n",
    "def text_save(filename, data):#filename为写入CSV文件的路径，data为要写入数据列表.\n",
    "    file = open(filename, 'a')\n",
    "    for i in range(len(data)):\n",
    "        s = str(data[i]).replace('[','').replace(']','')#去除[],这两行按数据不同，可以选择\n",
    "        s = s.replace(\"'\",'').replace(',','') +'\\n'   #去除单引号，逗号，每行末尾追加换行符\n",
    "        file.write(s)\n",
    "    file.close()\n",
    "    print(\"保存txt文件成功\")"
   ]
  },
  {
   "cell_type": "code",
   "execution_count": 104,
   "metadata": {},
   "outputs": [],
   "source": [
    "def getMeanAP(model, DATASET_DIR, image_ls, do_plot=False):\n",
    "    dataset = hpv.NucleusDataset()\n",
    "    dataset.load_nucleus(DATASET_DIR, image_ls)\n",
    "    dataset.prepare()\n",
    "    print(\"Images: {}\\nClasses: {}\".format(len(dataset.image_ids), dataset.class_names))\n",
    "    count1 = 0\n",
    "    AP_ls=[]\n",
    "    for image_id in dataset.image_ids:\n",
    "        info = dataset.image_info[image_id]\n",
    "        print(\"image_id: \", info)\n",
    "        # ####重要步骤：获得测试图片的信息\n",
    "        image, image_meta, gt_class_id, gt_bbox, gt_mask = modellib.load_image_gt(dataset, config, image_id, use_mini_mask=False)\n",
    "        # ###保存实际结果\n",
    "        if count1 == 0:\n",
    "            gt_bbox_all, gt_class_id_all, gt_mask_all = gt_bbox, gt_class_id, gt_mask\n",
    "        else:\n",
    "            gt_bbox_all = np.concatenate((gt_bbox_all, gt_bbox), axis=0)\n",
    "            gt_class_id_all = np.concatenate((gt_class_id_all, gt_class_id), axis=0)\n",
    "            gt_mask_all = np.concatenate((gt_mask_all, gt_mask), axis=2)\n",
    "        # # 显示检测结果\n",
    "        results = model.detect_molded(np.expand_dims(image, 0), np.expand_dims(image_meta, 0), verbose=1)\n",
    "        r = results[0]\n",
    "        # 保存预测结果\n",
    "        if count1 == 0:\n",
    "            pre_masks_all, pre_class_ids_all, pre_rois_all, pre_scores_all = r['masks'], r[\"class_ids\"], r[\"rois\"], r[\"scores\"]\n",
    "        else:\n",
    "            pre_masks_all = np.concatenate((pre_masks_all, r['masks']), axis=2)\n",
    "            pre_class_ids_all = np.concatenate((pre_class_ids_all, r['class_ids']), axis=0)\n",
    "            pre_rois_all = np.concatenate((pre_rois_all, r['rois']), axis=0)\n",
    "            pre_scores_all = np.concatenate((pre_scores_all, r['scores']), axis=0)\n",
    "        count1 += 1\n",
    "        AP, precisions, recalls, overlaps = utils.compute_ap(gt_bbox_all, gt_class_id_all, gt_mask_all,\n",
    "                                                     pre_rois_all, pre_class_ids_all, pre_scores_all, pre_masks_all)\n",
    "        if (do_plot):\n",
    "            print(\"precisions: \", precisions)\n",
    "            print(\"AP: \", AP)\n",
    "\n",
    "            plt.figure(\"P-R Curve\")\n",
    "            plt.title('Precision-Recall Curve. AP@50 = {:.3f}'.format(AP))\n",
    "            plt.xlabel('Recall')\n",
    "            plt.ylabel('Precision')\n",
    "            plt.plot(recalls, precisions, 'b', label='PR')\n",
    "            plt.show()\n",
    "            text_save('Kpreci.txt', precisions)\n",
    "            text_save('Krecall.txt', recalls)\n",
    "        AP_ls.append(AP)\n",
    "    return mean(AP_ls)\n",
    "\n",
    "def getSelectedImageList(DATASET_DIR,ext=\".png\",batch_size=3):\n",
    "    sel_image_ls = []\n",
    "    directories = os.listdir(DATASET_DIR)\n",
    "    validated_directory_ls = []\n",
    "    for directory in directories:\n",
    "        img_file = os.path.join(DATASET_DIR,directory,directory+ext)\n",
    "        #print(img_file)\n",
    "        if os.path.isfile(img_file):\n",
    "            validated_directory_ls.append(directory)\n",
    "    if batch_size<len(validated_directory_ls):\n",
    "        sel_image_ls = random.choices(validated_directory_ls, k=batch_size)\n",
    "    return (sel_image_ls)\n",
    "\n",
    "def getCrossValidateMeanAP(model, sel_image_ls, do_plot=False):\n",
    "    mean_AP = getMeanAP(model, DATASET_DIR, sel_image_ls, do_plot=do_plot)\n",
    "    return (mean_AP)\n",
    "\n",
    "def RunCrossValidation(weights_path_ls, DATASET_DIR,batch_size=3, folds=2, do_plot=False):\n",
    "    config = NucleusInferenceConfig()\n",
    "    with tf.device(DEVICE):\n",
    "        for i in range(folds):\n",
    "            sel_image_ls = getSelectedImageList(DATASET_DIR,ext=\".png\",batch_size=batch_size)\n",
    "            print(sel_image_ls)\n",
    "            meanAP_ls=[]\n",
    "            for weights_path in weights_path_ls:\n",
    "                model = modellib.MaskRCNN(mode=\"inference\",model_dir=LOGS_DIR,config=config)\n",
    "                model.load_weights(weights_path, by_name=True)\n",
    "                meanAP = getCrossValidateMeanAP(model, sel_image_ls, do_plot=do_plot)\n",
    "                meanAP_ls.append(meanAP)\n",
    "            print(meanAP_ls)\n",
    "\n",
    "weights_path_ls=[\"/home/hqyone/mnt/2tb/github/cancer_rcnn/code/cell_classification/model/mask_rcnn_modelA3-4_0150.h5\", \"/home/hqyone/mnt/2tb/github/cancer_rcnn/code/cell_classification/model/mask_rcnn_modelT1-1_0300.h5\"]\n",
    "\n"
   ]
  },
  {
   "cell_type": "code",
   "execution_count": 105,
   "metadata": {},
   "outputs": [
    {
     "name": "stdout",
     "output_type": "stream",
     "text": [
      "['1480', '1481', '1478']\n",
      "Images: 3\n",
      "Classes: ['BG', 'yin', 'yin-yang', 'yang']\n",
      "image_id:  {'id': '1480', 'source': 'nucleus', 'path': '/home/hqyone/mnt/2tb/github/cancer_rcnn/data/stage1_test/1480/1480.png'}\n",
      "/home/hqyone/mnt/2tb/github/cancer_rcnn/data/stage1_test/1480/masksxxxxx\n",
      "Processing 1 images\n",
      "image                    shape: (2048, 2048, 3)       min:   26.00000  max:  253.00000  uint8\n",
      "molded_images            shape: (1, 2048, 2048, 3)    min:   26.00000  max:  253.00000  uint8\n",
      "image_metas              shape: (1, 16)               min:    0.00000  max: 2048.00000  float64\n",
      "anchors                  shape: (1, 1047552, 4)       min:   -0.04422  max:    1.01295  float32\n",
      "image_id:  {'id': '1481', 'source': 'nucleus', 'path': '/home/hqyone/mnt/2tb/github/cancer_rcnn/data/stage1_test/1481/1481.png'}\n",
      "/home/hqyone/mnt/2tb/github/cancer_rcnn/data/stage1_test/1481/masksxxxxx\n",
      "Processing 1 images\n",
      "image                    shape: (2048, 2048, 3)       min:    9.00000  max:  243.00000  uint8\n",
      "molded_images            shape: (1, 2048, 2048, 3)    min:    9.00000  max:  243.00000  uint8\n",
      "image_metas              shape: (1, 16)               min:    0.00000  max: 2048.00000  float64\n",
      "anchors                  shape: (1, 1047552, 4)       min:   -0.04422  max:    1.01295  float32\n",
      "image_id:  {'id': '1478', 'source': 'nucleus', 'path': '/home/hqyone/mnt/2tb/github/cancer_rcnn/data/stage1_test/1478/1478.png'}\n",
      "/home/hqyone/mnt/2tb/github/cancer_rcnn/data/stage1_test/1478/masksxxxxx\n",
      "Processing 1 images\n",
      "image                    shape: (2048, 2048, 3)       min:   15.00000  max:  255.00000  uint8\n",
      "molded_images            shape: (1, 2048, 2048, 3)    min:   15.00000  max:  255.00000  uint8\n",
      "image_metas              shape: (1, 16)               min:    0.00000  max: 2048.00000  float64\n",
      "anchors                  shape: (1, 1047552, 4)       min:   -0.04422  max:    1.01295  float32\n"
     ]
    }
   ],
   "source": [
    "RunCrossValidation(weights_path_ls, DATASET_DIR,batch_size=3, folds=3, do_plot=False)"
   ]
  },
  {
   "cell_type": "code",
   "execution_count": 90,
   "metadata": {},
   "outputs": [
    {
     "name": "stdout",
     "output_type": "stream",
     "text": [
      "0\n",
      "1\n"
     ]
    }
   ],
   "source": [
    "for i in range(2):\n",
    "    print(i)"
   ]
  },
  {
   "cell_type": "code",
   "execution_count": 77,
   "metadata": {},
   "outputs": [
    {
     "name": "stdout",
     "output_type": "stream",
     "text": [
      "['xx_best_135_23_20', 'xx_best_183_20_19_2', 'xx_best_185_22_19', 'xx_best_1751_34_5', 'xx_best_51_22_27_3', 'xx_best_292_17_31_2', 'xx_best_334_35_27', 'xx_best_250_28_18', 'xx_best_45_26_29', 'xx_best_292_17_31']\n"
     ]
    }
   ],
   "source": [
    "ext=\".png\"\n",
    "directories = os.listdir(DATASET_DIR)\n",
    "validated_directory_ls = []\n",
    "for directory in directories:\n",
    "    img_file = os.path.join(DATASET_DIR,directory,directory+ext)\n",
    "    #print(img_file)\n",
    "    if os.path.isfile(img_file):\n",
    "        validated_directory_ls.append(directory)\n",
    "print(random.choices(validated_directory_ls, k=10))\n"
   ]
  },
  {
   "cell_type": "code",
   "execution_count": 78,
   "metadata": {},
   "outputs": [
    {
     "name": "stdout",
     "output_type": "stream",
     "text": [
      "/home/hqyone/mnt/2tb/github/cancer_rcnn/data/cc_tct_labeled_500_v1\n",
      "Images: 3\n",
      "Classes: ['BG', 'yin', 'yin-yang', 'yang']\n",
      "[0 1 2]\n"
     ]
    }
   ],
   "source": [
    "#####  加载测试集数据  #####\n",
    "dataset = hpv.NucleusDataset()\n",
    "print(DATASET_DIR)\n",
    "image_ls=[\"1456\",\"1458\",\"1462\",\"1478\",\"1479\",\"1480\",\"1481\",\"1486\"]\n",
    "image_ls=[\"1456\",\"1458\",\"1462\"]\n",
    "# dataset.load_nucleus(DATASET_DIR, \"stage1_test\")\n",
    "dataset.load_nucleus(DATASET_DIR, image_ls)\n",
    "dataset.prepare()\n",
    "print(\"Images: {}\\nClasses: {}\".format(len(dataset.image_ids), dataset.class_names))\n",
    "\n",
    "#####  导入模型  ####\n",
    "with tf.device(DEVICE):\n",
    "    model = modellib.MaskRCNN(mode=\"inference\",model_dir=LOGS_DIR,config=config)\n",
    "weights_path = \"/home/hqyone/mnt/2tb/github/cancer_rcnn/code/cell_classification/model/mask_rcnn_modelA3-4_0150.h5\"\n",
    "# weights_path = \"/Mask_RCNN/logs/nucleus20210105T1517/mask_rcnn_nucleus_0285.h5\"\n",
    "model.load_weights(weights_path, by_name=True)\n",
    "# image_id = random.choice(dataset.image_ids)   # 随机选取一张测试集\n",
    "image_ids = dataset.image_ids\n",
    "print(dataset.image_ids)"
   ]
  },
  {
   "cell_type": "code",
   "execution_count": 79,
   "metadata": {},
   "outputs": [
    {
     "name": "stdout",
     "output_type": "stream",
     "text": [
      "image_id:  0\n",
      "/home/hqyone/mnt/2tb/github/cancer_rcnn/data/cc_tct_labeled_500_v1/1456/masksxxxxx\n",
      "Processing 1 images\n",
      "image                    shape: (2048, 2048, 3)       min:   19.00000  max:  255.00000  uint8\n",
      "molded_images            shape: (1, 2048, 2048, 3)    min:   19.00000  max:  255.00000  uint8\n",
      "image_metas              shape: (1, 16)               min:    0.00000  max: 2048.00000  float64\n",
      "anchors                  shape: (1, 1047552, 4)       min:   -0.04422  max:    1.01295  float32\n",
      "image_id:  1\n",
      "/home/hqyone/mnt/2tb/github/cancer_rcnn/data/cc_tct_labeled_500_v1/1458/masksxxxxx\n",
      "Processing 1 images\n",
      "image                    shape: (2048, 2048, 3)       min:   21.00000  max:  249.00000  uint8\n",
      "molded_images            shape: (1, 2048, 2048, 3)    min:   21.00000  max:  249.00000  uint8\n",
      "image_metas              shape: (1, 16)               min:    0.00000  max: 2048.00000  float64\n",
      "anchors                  shape: (1, 1047552, 4)       min:   -0.04422  max:    1.01295  float32\n",
      "image_id:  2\n",
      "/home/hqyone/mnt/2tb/github/cancer_rcnn/data/cc_tct_labeled_500_v1/1462/masksxxxxx\n",
      "Processing 1 images\n",
      "image                    shape: (2048, 2048, 3)       min:   13.00000  max:  253.00000  uint8\n",
      "molded_images            shape: (1, 2048, 2048, 3)    min:   13.00000  max:  253.00000  uint8\n",
      "image_metas              shape: (1, 16)               min:    0.00000  max: 2048.00000  float64\n",
      "anchors                  shape: (1, 1047552, 4)       min:   -0.04422  max:    1.01295  float32\n",
      "precisions:  [1.         1.         1.         1.         1.         1.\n",
      " 1.         1.         1.         1.         1.         1.\n",
      " 1.         1.         1.         1.         1.         1.\n",
      " 1.         1.         1.         1.         1.         1.\n",
      " 1.         1.         1.         1.         1.         1.\n",
      " 1.         1.         1.         1.         1.         1.\n",
      " 1.         1.         1.         1.         1.         1.\n",
      " 1.         1.         1.         1.         1.         1.\n",
      " 0.9826087  0.9826087  0.9826087  0.9826087  0.9826087  0.9826087\n",
      " 0.9826087  0.9826087  0.9826087  0.9826087  0.9826087  0.9826087\n",
      " 0.9826087  0.9826087  0.9826087  0.9826087  0.9826087  0.9826087\n",
      " 0.9826087  0.9826087  0.9826087  0.9826087  0.9826087  0.9826087\n",
      " 0.9826087  0.9826087  0.9826087  0.9826087  0.9826087  0.9826087\n",
      " 0.9826087  0.9826087  0.9826087  0.9826087  0.9826087  0.9826087\n",
      " 0.9826087  0.9826087  0.9826087  0.9826087  0.9826087  0.9826087\n",
      " 0.9826087  0.9826087  0.9826087  0.9826087  0.9826087  0.9826087\n",
      " 0.9826087  0.9826087  0.9826087  0.9826087  0.9826087  0.9826087\n",
      " 0.9826087  0.9826087  0.9826087  0.9826087  0.9826087  0.9826087\n",
      " 0.9826087  0.9826087  0.9826087  0.9826087  0.9826087  0.9826087\n",
      " 0.9826087  0.9826087  0.97826087 0.97826087 0.97826087 0.97826087\n",
      " 0.97826087 0.97826087 0.97826087 0.97826087 0.97826087 0.97826087\n",
      " 0.97826087 0.97826087 0.97826087 0.97826087 0.97826087 0.97826087\n",
      " 0.97826087 0.97826087 0.97826087 0.97826087 0.97826087 0.97826087\n",
      " 0.97826087 0.97315436 0.97315436 0.97315436 0.97315436 0.97315436\n",
      " 0.97315436 0.97315436 0.97315436 0.97315436 0.97315436 0.97315436\n",
      " 0.96710526 0.96710526 0.96710526 0.96103896 0.96103896 0.95625\n",
      " 0.95625    0.95625    0.95625    0.95625    0.95625    0.95061728\n",
      " 0.95061728 0.94642857 0.94642857 0.94642857 0.94642857 0.94642857\n",
      " 0.94642857 0.94152047 0.94152047 0.94152047 0.94021739 0.94021739\n",
      " 0.94021739 0.94021739 0.94021739 0.94021739 0.94021739 0.94021739\n",
      " 0.94021739 0.94021739 0.94021739 0.94021739 0.94021739 0.93548387\n",
      " 0.93548387 0.93193717 0.93193717 0.93193717 0.93193717 0.93193717\n",
      " 0.92893401 0.92893401 0.92893401 0.92893401 0.92893401 0.92893401\n",
      " 0.92424242 0.92039801 0.92039801 0.92039801 0.91584158 0.91262136\n",
      " 0.91262136 0.91262136 0.91262136 0.90865385 0.90865385 0.9047619\n",
      " 0.9047619  0.90047393 0.89622642 0.89201878 0.88785047 0.8853211\n",
      " 0.8853211  0.8853211  0.8853211  0.88127854 0.87727273 0.87330317\n",
      " 0.8722467  0.8722467  0.8722467  0.8722467  0.8722467  0.8722467\n",
      " 0.87012987 0.87012987 0.87012987 0.87012987 0.86637931 0.86266094\n",
      " 0.85897436 0.85531915 0.85169492 0.84810127 0.84518828 0.84518828\n",
      " 0.84232365 0.84232365 0.84016393 0.84016393 0.84016393 0.83673469\n",
      " 0.83467742 0.83467742 0.83467742 0.832      0.832      0.82936508\n",
      " 0.82936508 0.82608696 0.82283465 0.81960784 0.81640625 0.81322957\n",
      " 0.81007752 0.80694981 0.80384615 0.80076628 0.79770992 0.79467681\n",
      " 0.79166667 0.78867925 0.78571429 0.78277154 0.77985075 0.77695167\n",
      " 0.77490775 0.77490775 0.77205882 0.76923077 0.76727273 0.76727273\n",
      " 0.76449275 0.        ]\n",
      "AP:  0.915309350338852\n"
     ]
    },
    {
     "data": {
      "image/png": "[encoded data removed]",
      "text/plain": [
       "<Figure size 432x288 with 1 Axes>"
      ]
     },
     "metadata": {},
     "output_type": "display_data"
    },
    {
     "name": "stdout",
     "output_type": "stream",
     "text": [
      "保存txt文件成功\n",
      "保存txt文件成功\n"
     ]
    }
   ],
   "source": [
    "APs = []\n",
    "count1 = 0\n",
    "for image_id in image_ids:\n",
    "    info = dataset.image_info[image_id]\n",
    "    print(\"image_id: \", image_id)\n",
    "    # ####重要步骤：获得测试图片的信息\n",
    "    image, image_meta, gt_class_id, gt_bbox, gt_mask = modellib.load_image_gt(dataset, config, image_id, use_mini_mask=False)\n",
    "    # ###保存实际结果\n",
    "    if count1 == 0:\n",
    "        gt_bbox_all, gt_class_id_all, gt_mask_all = gt_bbox, gt_class_id, gt_mask\n",
    "    else:\n",
    "        gt_bbox_all = np.concatenate((gt_bbox_all, gt_bbox), axis=0)\n",
    "        gt_class_id_all = np.concatenate((gt_class_id_all, gt_class_id), axis=0)\n",
    "        gt_mask_all = np.concatenate((gt_mask_all, gt_mask), axis=2)\n",
    "    # # 显示检测结果\n",
    "    results = model.detect_molded(np.expand_dims(image, 0), np.expand_dims(image_meta, 0), verbose=1)\n",
    "    r = results[0]\n",
    "    # 保存预测结果\n",
    "    if count1 == 0:\n",
    "        pre_masks_all, pre_class_ids_all, pre_rois_all, pre_scores_all = r['masks'], r[\"class_ids\"], r[\"rois\"], r[\"scores\"]\n",
    "    else:\n",
    "        pre_masks_all = np.concatenate((pre_masks_all, r['masks']), axis=2)\n",
    "        pre_class_ids_all = np.concatenate((pre_class_ids_all, r['class_ids']), axis=0)\n",
    "        pre_rois_all = np.concatenate((pre_rois_all, r['rois']), axis=0)\n",
    "        pre_scores_all = np.concatenate((pre_scores_all, r['scores']), axis=0)\n",
    "\n",
    "    count1 += 1\n",
    "\n",
    "\n",
    "# # 在阈值0.5到0.95之间每隔0.1显示AP值\n",
    "# utils.compute_ap_range(gt_bbox_all, gt_class_id_all, gt_mask_all, pre_rois_all, pre_class_ids_all, pre_scores_all, pre_masks_all, verbose=1)\n",
    "## 在图片中显示真实与预测之间的差异\n",
    "# visualize.display_differences(image, gt_bbox, gt_class_id, gt_mask, r['rois'], r['class_ids'], r['scores'], r['masks'],\n",
    "#                               dataset.class_names, ax=get_ax(), show_box=False, show_mask=False, iou_threshold=0.5, score_threshold=0.5)\n",
    "# plt.show()\n",
    "\n",
    "# ######绘制PR曲线######\n",
    "AP, precisions, recalls, overlaps = utils.compute_ap(gt_bbox_all, gt_class_id_all, gt_mask_all,\n",
    "                                                     pre_rois_all, pre_class_ids_all, pre_scores_all, pre_masks_all)\n",
    "print(\"precisions: \", precisions)\n",
    "print(\"AP: \", AP)\n",
    "\n",
    "plt.figure(\"P-R Curve\")\n",
    "plt.title('Precision-Recall Curve. AP@50 = {:.3f}'.format(AP))\n",
    "plt.xlabel('Recall')\n",
    "plt.ylabel('Precision')\n",
    "plt.plot(recalls, precisions, 'b', label='PR')\n",
    "plt.show()\n",
    "text_save('Kpreci.txt', precisions)\n",
    "text_save('Krecall.txt', recalls)"
   ]
  },
  {
   "cell_type": "code",
   "execution_count": null,
   "metadata": {},
   "outputs": [],
   "source": []
  }
 ],
 "metadata": {
  "interpreter": {
   "hash": "293c1db29015928fa70f2533541959f8126d727ab89dca2b968066b00ebfbe03"
  },
  "kernelspec": {
   "display_name": "Python 3.7.11 ('tf1')",
   "language": "python",
   "name": "python3"
  },
  "language_info": {
   "codemirror_mode": {
    "name": "ipython",
    "version": 3
   },
   "file_extension": ".py",
   "mimetype": "text/x-python",
   "name": "python",
   "nbconvert_exporter": "python",
   "pygments_lexer": "ipython3",
   "version": "3.7.11 (default, Jul 27 2021, 14:32:16) \n[GCC 7.5.0]"
  },
  "orig_nbformat": 4
 },
 "nbformat": 4,
 "nbformat_minor": 2
}
